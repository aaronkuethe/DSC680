{
 "cells": [
  {
   "cell_type": "code",
   "execution_count": 43,
   "metadata": {},
   "outputs": [],
   "source": [
    "# DSC 550\n",
    "# Week 4\n",
    "# Assignment 4.2\n",
    "# Aaron Kuethe\n",
    "\n",
    "# Install Packages\n",
    "\n",
    "import pandas as pd\n",
    "import numpy as np\n",
    "import matplotlib.pyplot as plt\n",
    "import json\n",
    "import string\n",
    "import unicodedata\n",
    "import sys\n",
    "import nltk"
   ]
  },
  {
   "cell_type": "code",
   "execution_count": 44,
   "metadata": {},
   "outputs": [
    {
     "data": {
      "text/html": [
       "<div>\n",
       "<style scoped>\n",
       "    .dataframe tbody tr th:only-of-type {\n",
       "        vertical-align: middle;\n",
       "    }\n",
       "\n",
       "    .dataframe tbody tr th {\n",
       "        vertical-align: top;\n",
       "    }\n",
       "\n",
       "    .dataframe thead th {\n",
       "        text-align: right;\n",
       "    }\n",
       "</style>\n",
       "<table border=\"1\" class=\"dataframe\">\n",
       "  <thead>\n",
       "    <tr style=\"text-align: right;\">\n",
       "      <th></th>\n",
       "      <th>Day of Week</th>\n",
       "      <th>comments</th>\n",
       "    </tr>\n",
       "  </thead>\n",
       "  <tbody>\n",
       "    <tr>\n",
       "      <td>0</td>\n",
       "      <td>Monday</td>\n",
       "      <td>Hello, how are you?</td>\n",
       "    </tr>\n",
       "    <tr>\n",
       "      <td>1</td>\n",
       "      <td>Tuesday</td>\n",
       "      <td>Today is a good day!</td>\n",
       "    </tr>\n",
       "    <tr>\n",
       "      <td>2</td>\n",
       "      <td>Wednesday</td>\n",
       "      <td>It's my birthday so it's a really special day!</td>\n",
       "    </tr>\n",
       "    <tr>\n",
       "      <td>3</td>\n",
       "      <td>Thursday</td>\n",
       "      <td>Today is neither a good day or a bad day!</td>\n",
       "    </tr>\n",
       "    <tr>\n",
       "      <td>4</td>\n",
       "      <td>Friday</td>\n",
       "      <td>I'm having a bad day.</td>\n",
       "    </tr>\n",
       "    <tr>\n",
       "      <td>5</td>\n",
       "      <td>Saturday</td>\n",
       "      <td>There' s nothing special happening today.</td>\n",
       "    </tr>\n",
       "    <tr>\n",
       "      <td>6</td>\n",
       "      <td>Sunday</td>\n",
       "      <td>Today is a SUPER good day!</td>\n",
       "    </tr>\n",
       "  </tbody>\n",
       "</table>\n",
       "</div>"
      ],
      "text/plain": [
       "  Day of Week                                        comments\n",
       "0      Monday                             Hello, how are you?\n",
       "1     Tuesday                            Today is a good day!\n",
       "2   Wednesday  It's my birthday so it's a really special day!\n",
       "3    Thursday       Today is neither a good day or a bad day!\n",
       "4      Friday                           I'm having a bad day.\n",
       "5    Saturday       There' s nothing special happening today.\n",
       "6      Sunday                      Today is a SUPER good day!"
      ]
     },
     "execution_count": 44,
     "metadata": {},
     "output_type": "execute_result"
    }
   ],
   "source": [
    "# 1. Load the data file DailyComments.csv from the Week 4 Data Files into a data frame.\n",
    "\n",
    "# Reading in the DailyComments csv file.\n",
    "\n",
    "daily = pd.read_csv(\"DailyComments.csv\")\n",
    "daily"
   ]
  },
  {
   "cell_type": "code",
   "execution_count": 45,
   "metadata": {},
   "outputs": [],
   "source": [
    "# 2.Identify a scheme to categorize each comment as positive or negative. You can devise your own scheme or find a commonly used\n",
    "# scheme to perform this sentiment analysis. However you decide to do this, make sure to explain the scheme you decide to use.\n",
    "\n",
    "# The scheme I am going to go with for categorizing each comment will be to look at each word individually using the\n",
    "# CountVectorizer function. Then I will identify words in each comment that have a positive or negative connotation, such as\n",
    "# 'good' or 'bad', and assign those words points that will help to identify the overall sentiment of each comment."
   ]
  },
  {
   "cell_type": "code",
   "execution_count": 46,
   "metadata": {},
   "outputs": [
    {
     "name": "stdout",
     "output_type": "stream",
     "text": [
      "\n",
      "vectorized words:\n",
      "\n",
      "['are', 'bad', 'birthday', 'day', 'good', 'happening', 'having', 'hello', 'how', 'is', 'it', 'my', 'neither', 'nothing', 'or', 'really', 'so', 'special', 'super', 'there', 'today', 'you']\n"
     ]
    }
   ],
   "source": [
    "# 3. Implement your sentiment analysis with code and display the results. Note: DailyComments.csv is a purposely small file, so \n",
    "# you will be able to clearly see why the results are what they are.\n",
    "\n",
    "# Importing CountVectorizer\n",
    "\n",
    "corpus = daily['comments']\n",
    "\n",
    "from sklearn.feature_extraction.text import CountVectorizer\n",
    "\n",
    "\n",
    "\n",
    "# Creating group of words by using CountVectorizer to pre-process the text data and see which words have a positive or negative\n",
    "# connotation.\n",
    "\n",
    "vectorizer = CountVectorizer()\n",
    "x = vectorizer.fit_transform(corpus)\n",
    "\n",
    "print(\"\")\n",
    "print(\"vectorized words:\")\n",
    "print(\"\")\n",
    "print(vectorizer.get_feature_names())\n",
    "\n",
    "# Good, bad, and special are all words that stand out."
   ]
  },
  {
   "cell_type": "code",
   "execution_count": 47,
   "metadata": {},
   "outputs": [
    {
     "name": "stdout",
     "output_type": "stream",
     "text": [
      "Identify Feature Words - Matrix View:\n",
      "\n",
      "[[1 0 0 0 0 0 0 1 1 0 0 0 0 0 0 0 0 0 0 0 0 1]\n",
      " [0 0 0 1 1 0 0 0 0 1 0 0 0 0 0 0 0 0 0 0 1 0]\n",
      " [0 0 1 1 0 0 0 0 0 0 2 1 0 0 0 1 1 1 0 0 0 0]\n",
      " [0 1 0 2 1 0 0 0 0 1 0 0 1 0 1 0 0 0 0 0 1 0]\n",
      " [0 1 0 1 0 0 1 0 0 0 0 0 0 0 0 0 0 0 0 0 0 0]\n",
      " [0 0 0 0 0 1 0 0 0 0 0 0 0 1 0 0 0 1 0 1 1 0]\n",
      " [0 0 0 1 1 0 0 0 0 1 0 0 0 0 0 0 0 0 1 0 1 0]]\n"
     ]
    }
   ],
   "source": [
    "# Creating an array of the data\n",
    "\n",
    "print(\"Identify Feature Words - Matrix View:\")\n",
    "print(\"\")\n",
    "print(x.toarray())\n",
    "\n",
    "\n",
    "# Displaying the matrix\n",
    "\n",
    "daily_df = pd.DataFrame({'text' : corpus})"
   ]
  },
  {
   "cell_type": "code",
   "execution_count": 48,
   "metadata": {},
   "outputs": [
    {
     "name": "stdout",
     "output_type": "stream",
     "text": [
      "                                             text  positive1  positive2  \\\n",
      "0                             Hello, how are you?          0          0   \n",
      "1                            Today is a good day!          1          0   \n",
      "2  It's my birthday so it's a really special day!          0          1   \n",
      "3       Today is neither a good day or a bad day!          1          0   \n",
      "4                           I'm having a bad day.          0          0   \n",
      "5       There' s nothing special happening today.          0          1   \n",
      "6                      Today is a SUPER good day!          1          0   \n",
      "\n",
      "   negative  TotScore  \n",
      "0         0         0  \n",
      "1         0         1  \n",
      "2         0         1  \n",
      "3         1         0  \n",
      "4         1        -1  \n",
      "5         0         1  \n",
      "6         0         1  \n",
      "\n",
      "Overall Score:   3\n"
     ]
    }
   ],
   "source": [
    "# Assigning points to positive and negative words from the 'comments' column. And then creating a formula to summarize them.\n",
    "\n",
    "daily_df['positive1'] = daily_df.text.str.count('good')\n",
    "daily_df['positive2']= daily_df.text.str.count('special')\n",
    "daily_df['negative'] = daily_df.text.str.count('bad')\n",
    "daily_df['TotScore'] = daily_df.positive1 + daily_df.positive2 - daily_df.negative\n",
    "\n",
    "print(daily_df)\n",
    "\n",
    "\n",
    "# Displaying the total score of the 'comments' column.\n",
    "\n",
    "Z = sum(daily_df['TotScore'])\n",
    "print(\"\")\n",
    "print(\"Overall Score:  \",Z)\n",
    "\n",
    "# Based off of this sentiment analysis, the only one that is slightly misleading is on Saturday and line 5. It picks up the\n",
    "# word 'special' and therefore says it is a positive day. However, the sentiment is nothing special is happening and therefore\n",
    "# it is a neutral sentiment. I think this goes to show that our results may never be 100% perfect, but more often than not this\n",
    "# will help us in identifying sentiment. Even if I added 'nothing' as a negative word, it would even the sentiment of this\n",
    "# articular statement out to make it neutral. However, if there was no positive word in it, it would make the comment sentiment \n",
    "# negative which also wouldn't be correct. It is best to leave it alone and live with the results not being 100% accurate."
   ]
  },
  {
   "cell_type": "code",
   "execution_count": 5,
   "metadata": {},
   "outputs": [],
   "source": []
  },
  {
   "cell_type": "code",
   "execution_count": null,
   "metadata": {},
   "outputs": [],
   "source": []
  }
 ],
 "metadata": {
  "kernelspec": {
   "display_name": "Python 3",
   "language": "python",
   "name": "python3"
  },
  "language_info": {
   "codemirror_mode": {
    "name": "ipython",
    "version": 3
   },
   "file_extension": ".py",
   "mimetype": "text/x-python",
   "name": "python",
   "nbconvert_exporter": "python",
   "pygments_lexer": "ipython3",
   "version": "3.7.4"
  }
 },
 "nbformat": 4,
 "nbformat_minor": 2
}
